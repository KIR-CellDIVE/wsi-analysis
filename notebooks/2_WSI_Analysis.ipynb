{
 "cells": [
  {
   "cell_type": "markdown",
   "id": "3b0b6f29-46b7-4b45-b19d-965a66bb0729",
   "metadata": {},
   "source": [
    "# **Whole slide analysis of Cell DIVE multiplex images**"
   ]
  },
  {
   "cell_type": "markdown",
   "id": "e24fc973-19fc-428f-832e-592424dd12b8",
   "metadata": {},
   "source": [
    "## <span style=\"color: red\"> THIS NOTEBOOK ACTS AS A TEMPLATE AND WILL NOT SAVE CHANGES UNLESS YOU SAVE A COPY TO YOUR OWN FOLDER. USE `FILE->DOWNLOAD` IN THE TASKBAR AT THE VERY TOP OF THIS PAGE TO SAVE A COPY OF THE NOTEBOOK. THEN, USING THE SIDEBAR TO THE RIGHT OPEN THE NEW COPY OF THE NOTEBOOK BEFORE YOU GET STARTED (RUNNING ON WSL C: AND D: DRIVES SHOULD BE LOCATED UNDER `drives/c` AND `drives/d`, RESPECTIVELY) </span> "
   ]
  },
  {
   "cell_type": "markdown",
   "id": "c7d22835-bbaf-4b00-a42e-fa105da17c68",
   "metadata": {},
   "source": [
    "Run through this notebook **step-by-step** and adjust the code if necessary at any point in the process. The explanation and comments througout the notebook will help guide you through the process. There will also be pointers as to modifications you might want to consider."
   ]
  },
  {
   "cell_type": "markdown",
   "id": "f8217cfa-97c4-4417-91e6-eb7151d2829e",
   "metadata": {},
   "source": [
    "## Dependencies\n",
    "We load all the necessary libraries used for the processing, analysis, clustering and visualisation in this notebook."
   ]
  },
  {
   "cell_type": "code",
   "execution_count": null,
   "id": "153a30ec-8e10-4eb9-aca3-6bb9cfa6493c",
   "metadata": {
    "vscode": {
     "languageId": "r"
    }
   },
   "outputs": [],
   "source": [
    "library(geometry)\n",
    "library(uwot)\n",
    "library(celldiveUtils)\n",
    "library(stringr)\n",
    "library(patchwork)"
   ]
  },
  {
   "cell_type": "markdown",
   "id": "4a7fedf8-dc3c-45ec-9f9e-f8ed5e70ae3b",
   "metadata": {},
   "source": [
    "## 1. Define data location and setup directory structure"
   ]
  },
  {
   "cell_type": "markdown",
   "id": "cff16acd-620a-43b0-aec2-7852231bb6e3",
   "metadata": {},
   "source": [
    "### 1.1 Set data directory"
   ]
  },
  {
   "cell_type": "markdown",
   "id": "93be8d01-3b28-42df-9d53-cc3b0a8d048d",
   "metadata": {},
   "source": [
    "The first step is to set the *data/base directory* `base_dir` that contains a folder called `segmentation` with the segmentation and quantification results. The content of the *base* directory would look something like the example below. We will also save the results and all the pipeline outputs in this folder as well."
   ]
  },
  {
   "cell_type": "markdown",
   "id": "5841c4a3-0648-4df1-a54c-09e58aa78fd5",
   "metadata": {},
   "source": [
    "```\n",
    "├── ome_tiff\n",
    "├── image_data\n",
    "└── segmentation\n",
    "    ├── cell_table\n",
    "    ├── cell_table_no_qc\n",
    "    ├── deepcell_input\n",
    "    ├── deepcell_output\n",
    "    ├── deepcell_output_no_qc\n",
    "    ├── deepcell_visualization\n",
    "    └── deepcell_visualization_no_qc\n",
    "    \n",
    "```"
   ]
  },
  {
   "cell_type": "markdown",
   "id": "b79be144-2a0d-4f56-ad3e-c9d76a6341d8",
   "metadata": {
    "execution": {
     "iopub.execute_input": "2024-11-01T16:52:08.386740Z",
     "iopub.status.busy": "2024-11-01T16:52:08.386167Z",
     "iopub.status.idle": "2024-11-01T16:52:08.393373Z",
     "shell.execute_reply": "2024-11-01T16:52:08.392655Z"
    }
   },
   "source": [
    "In order to define the *data/base directory* we have two options:\n",
    "* set `set_base_dir_method=\"Manual\"` and manually define the data/base directory below via `data_dir=`\n",
    "* set `set_base_dir_method=\"Relative\"` which assume that this notebook is saved in a `notebook` folder alongside the `ome_tiff` in the same parent directory\n",
    "\n",
    "The last option `Relative` ensures greatest reproducibility and transferability as the notebook is saved alongside the data and all path are defined relative to it."
   ]
  },
  {
   "cell_type": "markdown",
   "id": "2d9ef447-8260-4113-b3fd-87cf9f6c06b3",
   "metadata": {},
   "source": [
    "**NOTE: In `WSL` the `C:` drive, `D:` drive, etc are mounted and located at `/mnt/c`, `/mnt/d`, etc, respectively.**"
   ]
  },
  {
   "cell_type": "code",
   "execution_count": null,
   "id": "49eaeb72-89b8-417d-b6a7-2a4c8d24398c",
   "metadata": {
    "vscode": {
     "languageId": "r"
    }
   },
   "outputs": [],
   "source": [
    "set_base_dir_method <- \"Relative\""
   ]
  },
  {
   "cell_type": "code",
   "execution_count": null,
   "id": "8fca66b7-471f-4683-9d62-766b50cadf7d",
   "metadata": {
    "vscode": {
     "languageId": "r"
    }
   },
   "outputs": [],
   "source": [
    "if (set_base_dir_method == \"Relative\") {\n",
    "    notebook_dir <- getwd()\n",
    "    data_dir <- fs::path_dir(notebook_dir)\n",
    "} else if (set_base_dir_method == \"Manual\") {\n",
    "    data_dir = \"/path/to/data/directory\"\n",
    "}"
   ]
  },
  {
   "cell_type": "code",
   "execution_count": null,
   "id": "f7204e31-f28e-4718-b71f-af8f353a823d",
   "metadata": {
    "vscode": {
     "languageId": "r"
    }
   },
   "outputs": [],
   "source": [
    "# set the base directory\n",
    "base_dir = data_dir"
   ]
  },
  {
   "cell_type": "markdown",
   "id": "273c811b-5dd5-4078-8c86-6644ec38a650",
   "metadata": {},
   "source": [
    "### 1.2 Setup intermediate and results paths\n",
    "\n",
    "Next, we create results directories to save the plots, etc. such that we have the following folder structure in the `base directory`:"
   ]
  },
  {
   "cell_type": "markdown",
   "id": "34a35fc2-f055-4b0e-8904-4e22b94a9337",
   "metadata": {},
   "source": [
    "```\n",
    "├── ome_tiff\n",
    "├── image_data\n",
    "├── segmentation\n",
    "└── analysis\n",
    "    \n",
    "```"
   ]
  },
  {
   "cell_type": "markdown",
   "id": "435c528f-e19b-45f5-8106-5cee8ae4387d",
   "metadata": {},
   "source": [
    "Here, we set all the directory names to be created."
   ]
  },
  {
   "cell_type": "code",
   "execution_count": null,
   "id": "24ceb7fe-bd86-491b-8513-8d430de3ba9c",
   "metadata": {
    "vscode": {
     "languageId": "r"
    }
   },
   "outputs": [],
   "source": [
    "results_dir = fs::path_join(c(base_dir, \"analysis\"))\n",
    "cell_table_dir = fs::path_join(c(base_dir, \"segmentation\",\"cell_table_no_qc\"))\n",
    "cell_table_dir_qc = fs::path_join(c(base_dir, \"segmentation\", \"cell_table\"))"
   ]
  },
  {
   "cell_type": "markdown",
   "id": "25733224-1daa-4d03-8bd4-6483f6364ef2",
   "metadata": {},
   "source": [
    "Then, we check if the directories exist and if not create them."
   ]
  },
  {
   "cell_type": "code",
   "execution_count": null,
   "id": "7c3b3eb1-45ea-4c02-8010-dae96becdb7a",
   "metadata": {
    "vscode": {
     "languageId": "r"
    }
   },
   "outputs": [],
   "source": [
    "for (directory in c(results_dir)) {\n",
    "    dir.create(directory,showWarnings = FALSE)\n",
    "}"
   ]
  },
  {
   "cell_type": "markdown",
   "id": "6129b844-36eb-4205-aad2-e7f62b4713fc",
   "metadata": {
    "execution": {
     "iopub.execute_input": "2024-11-01T16:29:58.593526Z",
     "iopub.status.busy": "2024-11-01T16:29:58.575487Z",
     "iopub.status.idle": "2024-11-01T16:29:58.599028Z",
     "shell.execute_reply": "2024-11-01T16:29:58.598233Z"
    },
    "vscode": {
     "languageId": "r"
    }
   },
   "source": [
    "## SECTION 1: GENERATE UMAPs, INTENSITIES, NUMBER OF CELLS POST-QC - SAVE AS GUT CELLS.RDS - optimise for samples done as per Ark"
   ]
  },
  {
   "cell_type": "code",
   "execution_count": null,
   "id": "110accba-6ef4-4f53-82ad-ffce2e4b3b2d",
   "metadata": {
    "vscode": {
     "languageId": "r"
    }
   },
   "outputs": [],
   "source": [
    "input_data = \"normalized\" #or \"transformed\""
   ]
  },
  {
   "cell_type": "code",
   "execution_count": null,
   "id": "3c880864-9211-447e-907f-71fd2c1f3dda",
   "metadata": {
    "vscode": {
     "languageId": "r"
    }
   },
   "outputs": [],
   "source": [
    "if (input_data == \"normalized\") {\n",
    "    file_pattern = \".*_normalized_\"\n",
    "} else if (input_data == \"transformed\") {\n",
    "    file_pattern = \".*_arcsinh_transformed_\"\n",
    "}"
   ]
  },
  {
   "cell_type": "code",
   "execution_count": null,
   "id": "8affcb33-ec6e-4cb1-8dfa-f46cd02ad06b",
   "metadata": {
    "vscode": {
     "languageId": "r"
    }
   },
   "outputs": [],
   "source": [
    "cell_table_files = list.files(cell_table_dir_qc, pattern = file_pattern)"
   ]
  },
  {
   "cell_type": "code",
   "execution_count": null,
   "id": "5986e562-f7b1-4801-800e-e1834e0ae357",
   "metadata": {
    "vscode": {
     "languageId": "r"
    }
   },
   "outputs": [],
   "source": [
    "tissue_names  = stringr::str_match(cell_table_files,str_glue(\"cell_table_{file_pattern}(.*?)_region_001.csv\"))[,2]"
   ]
  },
  {
   "cell_type": "code",
   "execution_count": null,
   "id": "f4b7eb19-3fa3-43c5-b140-b90174b4fc81",
   "metadata": {
    "vscode": {
     "languageId": "r"
    }
   },
   "outputs": [],
   "source": [
    "tissue_names[2] = \"GI_6717\""
   ]
  },
  {
   "cell_type": "code",
   "execution_count": null,
   "id": "02ce2d28-71d0-4f64-ab38-fcc30b23757b",
   "metadata": {
    "vscode": {
     "languageId": "r"
    }
   },
   "outputs": [],
   "source": [
    "cell_tables = setNames(cell_table_files, tissue_names)"
   ]
  },
  {
   "cell_type": "code",
   "execution_count": null,
   "id": "ffcad789-a825-4be8-bcb3-9c9430bed12d",
   "metadata": {
    "vscode": {
     "languageId": "r"
    }
   },
   "outputs": [],
   "source": [
    "fs::path_join(c(\"test_\", cell_tables[tissue_names[1]]))"
   ]
  },
  {
   "cell_type": "code",
   "execution_count": null,
   "id": "cfa4ccd4-418c-4dec-9530-59af481dd997",
   "metadata": {
    "vscode": {
     "languageId": "r"
    }
   },
   "outputs": [],
   "source": [
    "cell_tables"
   ]
  },
  {
   "cell_type": "code",
   "execution_count": null,
   "id": "d50c3b5b-e363-4cf3-ad2f-10a79dc2596f",
   "metadata": {
    "vscode": {
     "languageId": "r"
    }
   },
   "outputs": [],
   "source": [
    "# cells <- list()\n",
    "\n",
    "# ##these samples have CD14, and CD34, but not CDH11, or PANCADHERIN\n",
    "# cells$metadata <- purrr::map(c('GI_6645', 'GI_6846'), function(libname) {\n",
    "#     data.table::fread(fs::path_join(c(cell_table_dir_qc,str_glue('cell_table_size_normalized_{libname}_region_001.csv')))) %>% \n",
    "#         dplyr::rename(x = 'centroid-1', y='centroid-0', CellNum=label) %>%\n",
    "#         dplyr::mutate(CellID = paste0('Cell', CellNum, '_', libname)) %>%\n",
    "#         dplyr::mutate(LibraryID = libname)  %>%\n",
    "#         dplyr::select(-c(CD14, CD34)) %>%\n",
    "#         dplyr::select(CellID, LibraryID, x, y, cell_size, DAPI_INIT,DAPI_FINAL, everything()) %>% \n",
    "#         data.frame()\n",
    "# }) %>% \n",
    "#     dplyr::bind_rows()\n",
    "\n",
    "\n",
    "# GI_6717 <- data.table::fread(fs::path_join(c(cell_table_dir_qc,'cell_table_size_normalized_GI_6717_3_region_001.csv'))) %>% dplyr::rename(x = 'centroid-1', y='centroid-0', CellNum=label) %>% dplyr::mutate(CellID = paste0('Cell', CellNum, '_', \"GI_6717\")) %>%\n",
    "#     dplyr::mutate(LibraryID = \"GI_6717\")  %>%\n",
    "#     dplyr::select(-c(CDH11, PANCADHERIN)) %>%\n",
    "#     dplyr::select(CellID, LibraryID, x, y, cell_size, DAPI_INIT,DAPI_FINAL, everything()) %>% \n",
    "#     data.frame()\n",
    "\n",
    "# cells$metadata <- dplyr::bind_rows(cells$metadata, GI_6717) "
   ]
  },
  {
   "cell_type": "code",
   "execution_count": null,
   "id": "ad7e03c5-f4a7-4283-978a-123654b4ae66",
   "metadata": {
    "vscode": {
     "languageId": "r"
    }
   },
   "outputs": [],
   "source": [
    "cells <- list()\n",
    "\n",
    "cells$metadata <-purrr::map(tissue_names, function(tissue_name) {\n",
    "    data.table::fread(fs::path_join(c(cell_table_dir_qc,cell_tables[tissue_name]))) %>% \n",
    "        dplyr::rename(x = 'centroid-1', y='centroid-0', CellNum=label) %>%\n",
    "        dplyr::mutate(CellID = paste0('Cell', CellNum, '_', tissue_name)) %>%\n",
    "        dplyr::mutate(LibraryID = tissue_name)  %>%\n",
    "        dplyr::select(CellID, LibraryID, x, y, cell_size, DAPI_INIT,DAPI_FINAL, everything()) %>% \n",
    "        data.frame()\n",
    "}) %>% \n",
    "    dplyr::bind_rows() %>%\n",
    "    dplyr::select_if(~ !any(is.na(.))) %>% \n",
    "    dplyr::mutate(x_img = x, y_img = y) %>% \n",
    "    dplyr::mutate(y = dplyr::case_when(\n",
    "        LibraryID == 'GI_6645' ~ y_img,\n",
    "        LibraryID == 'GI_6846' ~ y_img + 8500,\n",
    "        LibraryID == 'GI_6717' ~ y_img + 16000\n",
    "    ))"
   ]
  },
  {
   "cell_type": "code",
   "execution_count": null,
   "id": "98c448ff-bcca-45d1-af0f-991caad58101",
   "metadata": {
    "vscode": {
     "languageId": "r"
    }
   },
   "outputs": [],
   "source": [
    "cells$metadata %>% \n",
    "    split(.$LibraryID) %>% \n",
    "    purrr::imap(function(.SD, .name) {\n",
    "        .SD %>% dplyr::arrange(-y) %>% head(3)\n",
    "    })\n",
    "\n",
    "\n",
    "# ## Offset y so we can plot images in same space \n",
    "# cells$metadata <- cells$metadata %>% \n",
    "#     dplyr::mutate(x_img = x, y_img = y) %>% \n",
    "#     dplyr::mutate(y = dplyr::case_when(\n",
    "#         LibraryID == 'GI_6645' ~ y_img,\n",
    "#         LibraryID == 'GI_6846' ~ y_img + 8500,\n",
    "#         LibraryID == 'GI_6717' ~ y_img + 16000\n",
    "#     ))\n",
    "\n",
    "head(cells$metadata)"
   ]
  },
  {
   "cell_type": "code",
   "execution_count": null,
   "id": "62812746-6df4-4fec-8ce0-5151c41d3b80",
   "metadata": {
    "vscode": {
     "languageId": "r"
    }
   },
   "outputs": [],
   "source": [
    "# nrow(cells_alt$metadata)"
   ]
  },
  {
   "cell_type": "code",
   "execution_count": null,
   "id": "ef176903-f9c6-42af-9023-786fa8bb5a54",
   "metadata": {
    "vscode": {
     "languageId": "r"
    }
   },
   "outputs": [],
   "source": [
    "nrow(cells$metadata)"
   ]
  },
  {
   "cell_type": "code",
   "execution_count": null,
   "id": "efc68bd7-8ef8-46d7-ae63-70b8b3a5dd15",
   "metadata": {
    "vscode": {
     "languageId": "r"
    }
   },
   "outputs": [],
   "source": [
    "# tail(sort_by(cells_alt$metadata, list(cells_alt$metadata$LibraryID, cells_alt$metadata$CellNum)))"
   ]
  },
  {
   "cell_type": "code",
   "execution_count": null,
   "id": "bb78d750-061c-4fa0-9b62-3d40a43ae07d",
   "metadata": {
    "vscode": {
     "languageId": "r"
    }
   },
   "outputs": [],
   "source": [
    "# tail(sort_by(cells$metadata, list(cells$metadata$LibraryID, cells$metadata$CellNum)))"
   ]
  },
  {
   "cell_type": "code",
   "execution_count": null,
   "id": "b1c3e102-81bc-4672-9aed-d46e2851e502",
   "metadata": {
    "vscode": {
     "languageId": "r"
    }
   },
   "outputs": [],
   "source": [
    "# sum(!(sort_by(cells_alt$metadata, list(cells_alt$metadata$LibraryID, cells_alt$metadata$CellNum)) == sort_by(cells$metadata, list(cells$metadata$LibraryID, cells$metadata$CellNum))))"
   ]
  },
  {
   "cell_type": "code",
   "execution_count": null,
   "id": "162c9d90-222e-4295-a3bc-82bc0154c472",
   "metadata": {
    "vscode": {
     "languageId": "r"
    }
   },
   "outputs": [],
   "source": [
    "table(cells$metadata$LibraryID)"
   ]
  },
  {
   "cell_type": "code",
   "execution_count": null,
   "id": "d1d27352-53a0-437c-b351-3d70e3a2eed1",
   "metadata": {
    "vscode": {
     "languageId": "r"
    }
   },
   "outputs": [],
   "source": [
    "##plot samples on a umap\n",
    "celldiveUtils::do_scatter(data.frame(x = cells$metadata$y, y = -cells$metadata$x), cells$metadata, 'LibraryID')"
   ]
  },
  {
   "cell_type": "code",
   "execution_count": null,
   "id": "c62e0a23-c567-4e23-965a-cdbb2abb26bd",
   "metadata": {
    "vscode": {
     "languageId": "r"
    }
   },
   "outputs": [],
   "source": [
    "# celldiveUtils::do_scatter(data.frame(x = cells_alt$metadata$y, y = -cells_alt$metadata$x), cells_alt$metadata, 'LibraryID')"
   ]
  },
  {
   "cell_type": "code",
   "execution_count": null,
   "id": "5236935f-029d-4604-bdab-794b872e8aac",
   "metadata": {
    "vscode": {
     "languageId": "r"
    }
   },
   "outputs": [],
   "source": [
    "##plot number of cells per sample\n",
    "data.table::data.table(cells$metadata)[, .N, by = LibraryID] %>% \n",
    "    ggplot2::ggplot(ggplot2::aes(LibraryID, N)) + \n",
    "        ggplot2::geom_bar(stat = 'identity') + \n",
    "        ggplot2::coord_flip() + \n",
    "        ggplot2::theme_bw(base_size = 14)"
   ]
  },
  {
   "cell_type": "code",
   "execution_count": null,
   "id": "69a8816b-61a2-4046-b0a6-8fea2f34a9dc",
   "metadata": {
    "vscode": {
     "languageId": "r"
    }
   },
   "outputs": [],
   "source": [
    "# ##plot number of cells per sample\n",
    "# data.table::data.table(cells_alt$metadata)[, .N, by = LibraryID] %>% \n",
    "#     ggplot2::ggplot(ggplot2::aes(LibraryID, N)) + \n",
    "#         ggplot2::geom_bar(stat = 'identity') + \n",
    "#         ggplot2::coord_flip() + \n",
    "#         ggplot2::theme_bw(base_size = 14)"
   ]
  },
  {
   "cell_type": "markdown",
   "id": "47ae3b03-2274-4e58-9fad-fe93d7d587b6",
   "metadata": {
    "vscode": {
     "languageId": "r"
    }
   },
   "source": [
    "## SECTION 2: SHUFFLE INTENSITY INTO ITS OWN SLOT"
   ]
  },
  {
   "cell_type": "code",
   "execution_count": null,
   "id": "28fd32ae-d97a-402e-8472-31c7735772b7",
   "metadata": {
    "vscode": {
     "languageId": "r"
    }
   },
   "outputs": [],
   "source": [
    "metadata_columns <- c(\"LibraryID\",\"x\",\"y\",\"cell_size\",\"CellNum\", \"area\", \"eccentricity\", \"major_axis_length\", \"minor_axis_length\", \"perimeter\", \"convex_area\", \"equivalent_diameter\", \"major_minor_axis_ratio\", \"perim_square_over_area\", \"major_axis_equiv_diam_ratio\", \"convex_hull_resid\", \"centroid_dif\", \"num_concavities\", \"fov\", \"mask_type\", \"x_img\", \"y_img\")\n",
    "channels_keep <- setdiff(colnames(cells$metadata),metadata_columns)\n",
    "cells$intensity <- cells$metadata[, channels_keep]\n",
    "cells$intensity <- cells$intensity %>% tibble::column_to_rownames(var = \"CellID\")"
   ]
  },
  {
   "cell_type": "code",
   "execution_count": null,
   "id": "024ca346-b255-430b-a223-6ddbc95c8a4d",
   "metadata": {
    "vscode": {
     "languageId": "r"
    }
   },
   "outputs": [],
   "source": [
    "metadata_columns <- c(\"CellID\",\"LibraryID\",\"x\",\"y\",\"cell_size\",\"CellNum\", \"area\", \"eccentricity\", \"major_axis_length\", \"minor_axis_length\", \"perimeter\", \"convex_area\", \"equivalent_diameter\", \"major_minor_axis_ratio\", \"perim_square_over_area\", \"major_axis_equiv_diam_ratio\", \"convex_hull_resid\", \"centroid_dif\", \"num_concavities\", \"fov\", \"mask_type\", \"x_img\", \"y_img\")\n",
    "cells$metadata <- cells$metadata[, metadata_columns]"
   ]
  },
  {
   "cell_type": "code",
   "execution_count": null,
   "id": "ba9a1d96-1510-409e-8b93-6467741cc67d",
   "metadata": {
    "vscode": {
     "languageId": "r"
    }
   },
   "outputs": [],
   "source": [
    "###NOTE: WE DO NOT NEED TO DO FURTHER QC on cells AS THE ARK PIPELINE HAS ALREADY PERFORMED QC ON AREA, AND DAPI-DEPENDENT STEP HAS ALREADY BEEN IMPLEMENTED IN THE SEGMENTATION STEP.\n",
    "#we do not need to run 'do_norm(cells)' as we have already size normalised within the Ark pipeline\n",
    "\n",
    "#QC channels\n",
    "channels_keep <- setdiff(colnames(cells$intensity), c('PSTAT1', 'CD11C', 'CD34', 'PANCADHERIN', 'CDH11', 'DAPI_INIT', 'DAPI_FINAL', 'MERTK')) ## these are very low quality \n",
    "cells$intensity <- cells$intensity[, channels_keep]\n",
    "\n",
    "#viz channels (density) - the do_scale function has been altered within utils_celldive.r to account for the fact our cells$intensity has already been normalised\n",
    "cells <- celldiveUtils::do_scale(cells, z_thresh=3, within_batch=TRUE)"
   ]
  },
  {
   "cell_type": "code",
   "execution_count": null,
   "id": "304eafd5-9aec-4da7-aeca-9a5110f45b7e",
   "metadata": {
    "vscode": {
     "languageId": "r"
    }
   },
   "outputs": [],
   "source": [
    "cells$z %>% \n",
    "    data.frame() %>% \n",
    "    tibble::rownames_to_column('CellID') %>% \n",
    "    cbind(LibraryID = cells$metadata$LibraryID) %>% \n",
    "    tidyr::gather(key, val, all_of(colnames(cells$intensity))) %>% \n",
    "    ggplot2::ggplot(ggplot2::aes(val, key, color = LibraryID)) + \n",
    "        ggridges::geom_density_ridges2(fill = NA)"
   ]
  },
  {
   "cell_type": "code",
   "execution_count": null,
   "id": "444efee3-ba0e-43c1-bfd2-3cff9af691c6",
   "metadata": {
    "vscode": {
     "languageId": "r"
    }
   },
   "outputs": [],
   "source": [
    "cells$intensity %>% \n",
    "    tibble::rownames_to_column('CellID') %>% \n",
    "    cbind(LibraryID = cells$metadata$LibraryID) %>% \n",
    "    tidyr::gather(key, val, all_of(colnames(cells$intensity))) %>% \n",
    "    ggplot2::ggplot(ggplot2::aes(log1p(val), key, color = LibraryID)) + \n",
    "        ggridges::geom_density_ridges2(fill = NA)"
   ]
  },
  {
   "cell_type": "code",
   "execution_count": null,
   "id": "1bac917c-5673-4b10-9bfb-6a781701c018",
   "metadata": {
    "vscode": {
     "languageId": "r"
    }
   },
   "outputs": [],
   "source": [
    "#viz intensities (space)\n",
    "features_plot <- colnames(cells$intensity)\n",
    "suppressWarnings({\n",
    "    celldiveUtils::plotFeatures(\n",
    "        t(cells$z), \n",
    "        data.frame(x = cells$metadata$y, y = -cells$metadata$x), \n",
    "        features_plot, \n",
    "        nrow = floor(sqrt(length(features_plot))),\n",
    "        no_guide = TRUE\n",
    "    )    \n",
    "})\n",
    "\n",
    "saveRDS(cells, fs::path_join(c(results_dir, 'gut_cells.rds')))"
   ]
  },
  {
   "cell_type": "markdown",
   "id": "5d3233dc-47a0-453d-b61a-dc89aa7e9634",
   "metadata": {
    "vscode": {
     "languageId": "r"
    }
   },
   "source": [
    "## SECTION 3: MAKE SPOTS"
   ]
  },
  {
   "cell_type": "code",
   "execution_count": null,
   "id": "c0a9c638-8519-4a66-a476-0efd106b888b",
   "metadata": {
    "vscode": {
     "languageId": "r"
    }
   },
   "outputs": [],
   "source": [
    "###AHHH we are missing 'area', we need to ask Jonas to re-run the segmentation, with some parameter changes in Section 5.1 changes\n",
    "###Specifically, we need to set nuclear_counts to True, and fast_extraction to False\n",
    "###ISSUES WITH GAGARIN - this is super annoying - we need to install \"spatula\" -> issues with this locally so move to HPC\n",
    "\n",
    "###Niche analysis - do this on the cluster with the following R package\n",
    "#module load R/4.1.0-foss-2021a\n",
    "cells <- readRDS(fs::path_join(c(results_dir, 'gut_cells.rds')))\n",
    "spots <- celldiveUtils::make_spots(cells)\n",
    "saveRDS(spots, fs::path_join(c(results_dir, 'gut_spots.rds')))"
   ]
  },
  {
   "cell_type": "markdown",
   "id": "915aedbd-c866-4011-9e1b-f5f6896b1a08",
   "metadata": {
    "vscode": {
     "languageId": "r"
    }
   },
   "source": [
    "## SECTION 4: CLUSTERING SPOTS"
   ]
  },
  {
   "cell_type": "code",
   "execution_count": null,
   "id": "d93971e4-5a69-496e-a99c-466b71f30d1c",
   "metadata": {
    "vscode": {
     "languageId": "r"
    }
   },
   "outputs": [],
   "source": [
    "cells <- readRDS(fs::path_join(c(results_dir, 'gut_cells.rds')))\n",
    "spots <- readRDS(fs::path_join(c(results_dir, 'gut_spots.rds')))\n",
    "\n",
    "system.time({\n",
    "    spots <- spots %>% \n",
    "        celldiveUtils::do_norm() %>% \n",
    "        celldiveUtils::do_scale(3, TRUE) %>% \n",
    "        celldiveUtils::do_pca() %>% \n",
    "        celldiveUtils::do_umap('V', 'U0') %>% \n",
    "        celldiveUtils::harmonize() %>% \n",
    "        celldiveUtils::do_umap('H', 'U1') %>% \n",
    "        identity()\n",
    "})\n",
    "\n",
    "# fig.size(5, 15)\n",
    "(\n",
    "    celldiveUtils::do_scatter(spots$U1$embedding, spots$metadata, 'LibraryID') | \n",
    "    celldiveUtils::do_scatter(spots$U1$embedding, spots$metadata, 'LibraryID', dplyr::quo(LibraryID)) \n",
    ") + \n",
    "patchwork::plot_layout(widths = c(1, 3))\n",
    "\n",
    "pdf(fs::path_join(c(results_dir, \"features_spots_clustering_umap.pdf\")), height=16, width=24)\n",
    "features_plot <- colnames(spots$z)\n",
    "suppressWarnings({\n",
    "    celldiveUtils::plotFeatures(\n",
    "        t(spots$z), \n",
    "        spots$U1$embedding, \n",
    "        features_plot, \n",
    "        nrow = floor(sqrt(length(features_plot))),\n",
    "        no_guide = TRUE)    \n",
    "})\n",
    "dev.off()\n",
    "\n",
    "system.time({\n",
    "    spots <- spots %>% \n",
    "        celldiveUtils::do_louvain('U1', c(.1, .4, .8, 1.2)) %>% \n",
    "        celldiveUtils::do_markers()\n",
    "})\n",
    "\n",
    "## Only plot up to 33 colors \n",
    "clusters_plot <- names(which(spots$Clusters %>% map(table) %>% map_int(length) <= length(celldiveUtils:::colors_overload)))\n",
    "\n",
    "pdf(fs::path_join(c(results_dir, \"spots_clustering_umap.pdf\")), height=30, width=30)\n",
    "# fig.size(4 * length(clusters_plot), 15)\n",
    "map(clusters_plot, function(.name) {\n",
    "    celldiveUtils::do_scatter(spots$U1$embedding, spots$Clusters, .name) |\n",
    "    celldiveUtils::do_scatter(data.frame(x = spots$metadata$y, y = -spots$metadata$x), spots$Clusters, .name, do_labels = FALSE)\n",
    "}) %>% \n",
    "    reduce(`/`)\n",
    "dev.off()\n",
    "\n",
    "saveRDS(spots, fs::path_join(c(results_dir, 'gut_spots_post_clustering.rds')))"
   ]
  },
  {
   "cell_type": "markdown",
   "id": "8c583334-059e-467c-8f50-78825a20c66c",
   "metadata": {
    "vscode": {
     "languageId": "r"
    }
   },
   "source": [
    "## SECTION 5: CLUSTERING CELLS"
   ]
  },
  {
   "cell_type": "code",
   "execution_count": null,
   "id": "5b59c0fe-fbe5-498c-9c60-08d2e90a067b",
   "metadata": {
    "vscode": {
     "languageId": "r"
    }
   },
   "outputs": [],
   "source": [
    "cells <- readRDS(fs::path_join(c(results_dir, 'gut_cells.rds')))\n",
    "\n",
    "system.time({\n",
    "    cells <- cells %>% \n",
    "        celldiveUtils::do_norm() %>% \n",
    "        celldiveUtils::do_scale(3, TRUE) %>% \n",
    "        celldiveUtils::do_pca() %>% \n",
    "        celldiveUtils::do_umap('V', 'U0') %>% \n",
    "        celldiveUtils::harmonize() %>% \n",
    "        celldiveUtils::do_umap('H', 'U1') %>% \n",
    "        identity()\n",
    "})\n",
    "\n",
    "# fig.size(5, 15)\n",
    "with(cells, {\n",
    "    (\n",
    "        celldiveUtils::do_scatter(U1$embedding, metadata, 'LibraryID') | \n",
    "        celldiveUtils::do_scatter(U1$embedding, metadata, 'LibraryID', dplyr::quo(LibraryID)) \n",
    "    ) + \n",
    "    plot_layout(widths = c(1, 3))\n",
    "})\n",
    "\n",
    "pdf(fs::path_join(c(results_dir, \"features_cells_clustering_umap.pdf\")), height=16, width=24)\n",
    "# fig.size(16, 24)\n",
    "features_plot <- colnames(cells$z)\n",
    "suppressWarnings({\n",
    "    celldiveUtils::plotFeatures(\n",
    "        t(cells$z), \n",
    "        cells$U1$embedding, \n",
    "        features_plot, \n",
    "        nrow = floor(sqrt(length(features_plot))),\n",
    "        no_guide = TRUE\n",
    "    )    \n",
    "})\n",
    "dev.off()\n",
    "\n",
    "system.time({\n",
    "    cells <- cells %>% \n",
    "        celldiveUtils::do_louvain('U1', c(.1, .4, .8, 1.2)) %>% \n",
    "        celldiveUtils::do_markers()\n",
    "})\n",
    "\n",
    "pdf(fs::path_join(c(results_dir, \"cells_clustering_umap.pdf\")), height=30, width=30)\n",
    "## Only plot up to 33 colors \n",
    "with(cells, {\n",
    "    clusters_plot <- names(which(Clusters %>% map(table) %>% map_int(length) <= length(celldiveUtils:::colors_overload)))\n",
    "    # fig.size(4 * length(clusters_plot), 15)\n",
    "    map(clusters_plot, function(.name) {\n",
    "        celldiveUtils::do_scatter(U1$embedding, Clusters, .name) |\n",
    "        celldiveUtils::do_scatter(data.frame(x = metadata$y, y = -metadata$x), Clusters, .name, do_labels = FALSE)\n",
    "    }) %>% \n",
    "        reduce(`/`)\n",
    "    \n",
    "})\n",
    "dev.off()\n",
    "\n",
    "saveRDS(cells, fs::path_join(c(results_dir, 'gut_cells_post_clustering.rds')))"
   ]
  },
  {
   "cell_type": "markdown",
   "id": "db076baa-5520-4773-9e87-3d2a1c788565",
   "metadata": {
    "vscode": {
     "languageId": "r"
    }
   },
   "source": [
    "## SECTION 6: LABEL NICHES"
   ]
  },
  {
   "cell_type": "markdown",
   "id": "3af7b698-5805-4bef-857b-242855ab38eb",
   "metadata": {
    "vscode": {
     "languageId": "r"
    }
   },
   "source": [
    "## SECTION 7: PLOT MARKERS (UMAPs/HEATMAPS)"
   ]
  },
  {
   "cell_type": "code",
   "execution_count": null,
   "id": "b9e15799-c4a5-4398-9b03-805b30372648",
   "metadata": {
    "vscode": {
     "languageId": "r"
    }
   },
   "outputs": [],
   "source": [
    "spots <- readRDS(fs::path_join(c(results_dir, 'gut_spots_post_clustering.rds')))\n",
    "cells <- readRDS(fs::path_join(c(results_dir, 'gut_cells_post_clustering.rds')))\n",
    "\n",
    "pdf(fs::path_join(c(results_dir, \"post_plot_clusters.pdf\")), height=30, width=30)\n",
    "with(spots, {\n",
    "    clusters_plot <- names(which(Clusters %>% map(table) %>% map_int(length) <= length(celldiveUtils:::colors_overload)))\n",
    "    # fig.size(4 * length(clusters_plot), 15)\n",
    "    map(clusters_plot, function(.name) {\n",
    "        celldiveUtils::do_scatter(U1$embedding, Clusters, .name) |\n",
    "        celldiveUtils::do_scatter(data.frame(x = metadata$y, y = -metadata$x), Clusters, .name, do_labels = FALSE)\n",
    "    }) %>% \n",
    "        reduce(`/`)\n",
    "    \n",
    "})\n",
    "dev.off()\n",
    "\n",
    "pdf(fs::path_join(c(results_dir, \"clusters.pdf\")), height = 10, width = 10)\n",
    "with(spots, celldiveUtils::do_scatter(U1$embedding, Clusters, 'Clust0.4'))\n",
    "dev.off()\n",
    "\n",
    "pdf(fs::path_join(c(results_dir, \"clusters_individual.pdf\")), height = 15, width = 10)\n",
    "with(spots, {\n",
    "    celldiveUtils::do_scatter(U1$embedding, Clusters, 'Clust0.4', dplyr::quo(`Clust0.4`), do_labels=FALSE, nrow=6)       \n",
    "})\n",
    "dev.off()\n",
    "\n",
    "pdf(fs::path_join(c(results_dir, \"markers_across_clusters.pdf\")), height = 4, width = 15)\n",
    "celldiveUtils::plotFeatures(t(spots$z), spots$U1$embedding, c('ASMA', 'CD31', 'CD90', 'CD146'), nrow = 1,no_guide = TRUE) %>% plot()\n",
    "celldiveUtils::plotFeatures(t(spots$z), spots$U1$embedding, c('CCL19', 'CD3', 'CD4', 'CD45'), nrow = 1,no_guide = TRUE) %>% plot() \n",
    "dev.off()\n",
    "\n",
    "pdf(fs::path_join(c(results_dir, \"stroma_vs_epi_across_clusters.pdf\")), height = 4, width = 8)\n",
    "celldiveUtils::plotFeatures(t(spots$z), spots$U1$embedding, c('VIM', 'PANCK'), nrow = 1, no_guide = TRUE) %>% plot() \n",
    "dev.off()\n",
    "\n",
    "pdf(fs::path_join(c(results_dir, \"heatmap_multiple_res.pdf\")), height = 4, width = 8)\n",
    "celldiveUtils::plot_heatmap(spots$Markers$`Clust0.1`, c('ASMA', 'CD31', 'CD90', 'CD146', 'CCL19', 'CD3', 'CD4', 'CD45', 'VIM', 'PANCK'), TRUE)\n",
    "celldiveUtils::plot_heatmap(spots$Markers$`Clust0.4`, c('ASMA', 'CD31', 'CD90', 'CD146', 'CCL19', 'CD3', 'CD4', 'CD45', 'VIM', 'PANCK'), TRUE)\n",
    "celldiveUtils::plot_heatmap(spots$Markers$`Clust0.8`, c('ASMA', 'CD31', 'CD90', 'CD146', 'CCL19', 'CD3', 'CD4', 'CD45', 'VIM', 'PANCK'), TRUE)\n",
    "celldiveUtils::plot_heatmap(spots$Markers$`Clust1.2`, c('ASMA', 'CD31', 'CD90', 'CD146', 'CCL19', 'CD3', 'CD4', 'CD45', 'VIM', 'PANCK'), TRUE)\n",
    "dev.off()"
   ]
  },
  {
   "cell_type": "markdown",
   "id": "d8f7525d-3b7e-435f-91d2-f95795b2ae66",
   "metadata": {
    "vscode": {
     "languageId": "r"
    }
   },
   "source": [
    "## SECTION 8: NICHE HEATMAP"
   ]
  },
  {
   "cell_type": "code",
   "execution_count": null,
   "id": "2446936a-7e0f-45ad-b14e-ad09c9b0a192",
   "metadata": {
    "vscode": {
     "languageId": "r"
    }
   },
   "outputs": [],
   "source": [
    "if ('Niche' %in% colnames(spots$metadata)) \n",
    "    spots$metadata$Niche <- NULL\n",
    "\n",
    "spots$metadata$Cluster <- paste0('C', spots$Clusters$`Clust1.2`)\n",
    "\n",
    "spots$metadata <- spots$metadata %>% \n",
    "    dplyr::mutate(Niche = dplyr::case_when(\n",
    "        Cluster %in% paste0('C', c(12,1,0,26,8,18)) ~ 'Lympho_Vascular',\n",
    "        Cluster %in% paste0('C', c(2,5,14,17,16)) ~ 'Perivascular',\n",
    "        Cluster %in% paste0('C', c(13,32,4,3,27,11,10,30,9,28)) ~ 'Other',\n",
    "        Cluster %in% paste0('C', c(29,19,23,21,25,31)) ~ 'Epithelial',\n",
    "        Cluster %in% paste0('C', c(6,22,7,20,15,24)) ~ 'Lymphoid'\n",
    "    )) %>% \n",
    "    dplyr::mutate(Niche_Broad = gsub('\\\\d+', '', Niche))\n",
    "\n",
    "pdf(fs::path_join(c(results_dir, \"niches_umap.pdf\")), width=8, height=8)\n",
    "# fig.size(8, 12)\n",
    "with(spots, {\n",
    "    celldiveUtils::do_scatter(U1$embedding, metadata, 'Niche', do_labels = TRUE)    \n",
    "})\n",
    "dev.off()\n",
    "\n",
    "pdf(fs::path_join(c(results_dir, \"niches.pdf\")), width=12, height=8)\n",
    "# fig.size(8, 12)\n",
    "with(spots, {\n",
    "    celldiveUtils::do_scatter(\n",
    "        data.frame(x = metadata$y, y = -metadata$x),\n",
    "        metadata, \n",
    "        'Niche', dplyr::quo(Niche_Broad), \n",
    "        do_labels = FALSE, \n",
    "        nrow = 2\n",
    "    )    \n",
    "})\n",
    "dev.off()\n",
    "\n",
    "pdf(fs::path_join(c(results_dir, \"niche_heatmaps.pdf\")), width=8, height=10)\n",
    "# fig.size(8, 10)\n",
    "with(spots, presto::wilcoxauc(t(z), metadata$Niche)) %>% \n",
    "    celldiveUtils::plot_heatmap(.scale=TRUE)\n",
    "dev.off()\n",
    "\n",
    "saveRDS(spots, fs::path_join(c(results_dir, 'gut_spots_post_niche_annotation.rds')))"
   ]
  },
  {
   "cell_type": "markdown",
   "id": "2de7bca1-fbf3-42bc-ac7e-f5dd9cd6a12b",
   "metadata": {
    "vscode": {
     "languageId": "r"
    }
   },
   "source": [
    "## SECTION 9: FIBROBLAST ANALYSIS HEATMAP"
   ]
  },
  {
   "cell_type": "markdown",
   "id": "72faa9f5-71bd-4c3e-9045-9adc281d1c60",
   "metadata": {
    "vscode": {
     "languageId": "r"
    }
   },
   "source": [
    "## SECTION 10: LOCALISATION ENRICHMENT"
   ]
  }
 ],
 "metadata": {
  "kernelspec": {
   "display_name": "R",
   "language": "R",
   "name": "ir"
  },
  "language_info": {
   "codemirror_mode": "r",
   "file_extension": ".r",
   "mimetype": "text/x-r-source",
   "name": "R",
   "pygments_lexer": "r",
   "version": "4.4.1"
  }
 },
 "nbformat": 4,
 "nbformat_minor": 5
}
